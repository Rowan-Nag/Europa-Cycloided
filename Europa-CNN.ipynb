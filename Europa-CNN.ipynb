{
 "cells": [
  {
   "cell_type": "code",
   "execution_count": 2,
   "metadata": {},
   "outputs": [],
   "source": [
    "import tensorflow as tf\n",
    "from tensorflow.keras import layers, models\n"
   ]
  },
  {
   "cell_type": "code",
   "execution_count": 4,
   "metadata": {},
   "outputs": [],
   "source": [
    "\n",
    "def conv_block(x, filters, kernel_size, strides, padding='same'):\n",
    "    x = layers.Conv2D(filters, kernel_size, strides=strides, padding=padding)(x)\n",
    "    x = layers.BatchNormalization()(x)\n",
    "    x = layers.ReLU()(x)\n",
    "    return x\n",
    "\n",
    "def fpn_block(pyramid, filters):\n",
    "    p5, p4, p3, p2 = pyramid\n",
    "    p4 = layers.Add()([layers.UpSampling2D()(p5), p4])\n",
    "    p3 = layers.Add()([layers.UpSampling2D()(p4), p3])\n",
    "    p2 = layers.Add()([layers.UpSampling2D()(p3), p2])\n",
    "    return p2, p3, p4, p5\n",
    "\n",
    "def build_fpn(input_shape):\n",
    "    inputs = layers.Input(shape=input_shape)\n",
    "    \n",
    "    # Backbone network (e.g., ResNet)\n",
    "    c1 = conv_block(inputs, 64, 3, 1)\n",
    "    c2 = conv_block(c1, 128, 3, 2)\n",
    "    c3 = conv_block(c2, 256, 3, 2)\n",
    "    c4 = conv_block(c3, 512, 3, 2)\n",
    "    c5 = conv_block(c4, 1024, 3, 2)\n",
    "    \n",
    "    # Top-down pathway\n",
    "    p5 = conv_block(c5, 256, 1, 1)\n",
    "    p4 = conv_block(c4, 256, 1, 1)\n",
    "    p3 = conv_block(c3, 256, 1, 1)\n",
    "    p2 = conv_block(c2, 256, 1, 1)\n",
    "    \n",
    "    # Feature Pyramid Network\n",
    "    p2, p3, p4, p5 = fpn_block([p5, p4, p3, p2], 256)\n",
    "    \n",
    "    # Edge detection heads\n",
    "    edge_p2 = layers.Conv2D(1, 1, activation='sigmoid')(p2)\n",
    "    edge_p3 = layers.Conv2D(1, 1, activation='sigmoid')(p3)\n",
    "    edge_p4 = layers.Conv2D(1, 1, activation='sigmoid')(p4)\n",
    "    edge_p5 = layers.Conv2D(1, 1, activation='sigmoid')(p5)\n",
    "    \n",
    "    # Upsample to the same size\n",
    "    edge_p3 = layers.UpSampling2D()(edge_p3)\n",
    "    edge_p4 = layers.UpSampling2D(size=(4, 4))(edge_p4)\n",
    "    edge_p5 = layers.UpSampling2D(size=(8, 8))(edge_p5)\n",
    "    \n",
    "    # Concatenate edge maps\n",
    "    edges = layers.Concatenate()([edge_p2, edge_p3, edge_p4, edge_p5])\n",
    "    edges = layers.Conv2D(1, 1, activation='sigmoid')(edges)\n",
    "    \n",
    "    model = models.Model(inputs, edges)\n",
    "    return model\n",
    "\n",
    "# Example usage\n",
    "input_shape = (256, 256, 3)\n",
    "model = build_fpn(input_shape)\n",
    "model.compile(optimizer='adam', loss='binary_crossentropy', metrics=['accuracy'])\n"
   ]
  },
  {
   "cell_type": "code",
   "execution_count": null,
   "metadata": {},
   "outputs": [],
   "source": []
  }
 ],
 "metadata": {
  "kernelspec": {
   "display_name": "tf-metal",
   "language": "python",
   "name": "python3"
  },
  "language_info": {
   "codemirror_mode": {
    "name": "ipython",
    "version": 3
   },
   "file_extension": ".py",
   "mimetype": "text/x-python",
   "name": "python",
   "nbconvert_exporter": "python",
   "pygments_lexer": "ipython3",
   "version": "3.10.13"
  }
 },
 "nbformat": 4,
 "nbformat_minor": 2
}
